{
 "cells": [
  {
   "cell_type": "markdown",
   "metadata": {},
   "source": [
    "# A very crash course in Python\n",
    "\n",
    "Oxford, July 2019"
   ]
  },
  {
   "cell_type": "markdown",
   "metadata": {},
   "source": [
    "## Outline\n",
    "\n",
    "* [Welcome and introduction](welcome-and-introduction.ipynb)\n",
    "* [Playing with Python in the REPL](python-in-the-repl.ipynb)\n",
    "* [Example program 0: what happens when a Python program is run?](example-0.ipynb)\n",
    "* [Example program 1: simple data analysis](example-1.ipynb)\n",
    "* [Example program 2: producing charts](example-2.ipynb)\n",
    "* [Interlude: What actually is a web page?](what-is-a-web-page.ipynb)\n",
    "* [Example program 3: scraping data](example-3.ipynb)\n",
    "* [Running a Jupyter notebook](running-a-notebook.ipynb)\n",
    "* [Publishing a notebook on PythonAnywhere](publishing-a-notebook.ipynb)\n",
    "* [A complete example](complete-example.ipynb)\n",
    "* [Wrapping up](wrapping-up.ipynb)"
   ]
  }
 ],
 "metadata": {
  "kernelspec": {
   "display_name": "Python 3",
   "language": "python",
   "name": "python3"
  },
  "language_info": {
   "codemirror_mode": {
    "name": "ipython",
    "version": 3
   },
   "file_extension": ".py",
   "mimetype": "text/x-python",
   "name": "python",
   "nbconvert_exporter": "python",
   "pygments_lexer": "ipython3",
   "version": "3.7.3"
  }
 },
 "nbformat": 4,
 "nbformat_minor": 2
}
