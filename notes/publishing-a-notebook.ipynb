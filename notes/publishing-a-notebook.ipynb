{
 "cells": [
  {
   "cell_type": "markdown",
   "metadata": {},
   "source": [
    "##### [A very crash course in Python](contents.ipynb)\n",
    "\n",
    "# Publishing a notebook on PythonAnywhere"
   ]
  },
  {
   "cell_type": "markdown",
   "metadata": {},
   "source": [
    "It is possible, although a bit convoluted, to publish a notebook to share via PythonAnywhere.\n",
    "\n",
    "* Go to the Web tab\n",
    "* Click \"Add a new web app\"\n",
    "* Choose \"`[username].pythonanywhere.com`\"\n",
    "* Click \"Next\"\n",
    "* Choose \"Manual configuration\"\n",
    "* Select \"Python 3.7\"\n",
    "* Click \"Next\"\n",
    "* Twiddle your thumbs\n",
    "* Scroll down to \"Static files\"\n",
    "* Click \"Enter URL\" and type \"/notebooks/nhs-news-analysis.ipynb\"\n",
    "* Click \"Enter path\" and type \"/home/[username]/datalab/2019-07/forecast.html\"\n",
    "* Scroll up and click the \"Reload button\"\n",
    "\n",
    "Now, visit http://[username].pythonanywhere.com/notebooks/nhs-news-analysis.ipynb.\n",
    "\n",
    "Then, go to https://nbviewer.jupyter.org/ and enter http://[username].pythonanywhere.com/notebooks/nhs-news-analysis.ipynb into the address bar and click \"Go!\""
   ]
  }
 ],
 "metadata": {
  "kernelspec": {
   "display_name": "Python 3",
   "language": "python",
   "name": "python3"
  },
  "language_info": {
   "codemirror_mode": {
    "name": "ipython",
    "version": 3
   },
   "file_extension": ".py",
   "mimetype": "text/x-python",
   "name": "python",
   "nbconvert_exporter": "python",
   "pygments_lexer": "ipython3",
   "version": "3.7.3"
  }
 },
 "nbformat": 4,
 "nbformat_minor": 2
}
