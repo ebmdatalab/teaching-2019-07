{
 "cells": [
  {
   "cell_type": "markdown",
   "metadata": {},
   "source": [
    "##### [A very crash course in Python](contents.ipynb)\n",
    "\n",
    "# Running a Jupyter notebook"
   ]
  },
  {
   "cell_type": "markdown",
   "metadata": {},
   "source": [
    "A third way to run Python code is through a [Jupyter notebook](https://jupyter.org/).  Notebooks serve at least two distinct purposes.\n",
    "\n",
    "Firstly, they are a good tool for exploring data.  They are a something of a middle ground between using an interactive interpreter and running code in a file.\n",
    "\n",
    "Secondly, they are a great way to tell stories that mix calculatations, graphs, and narrative.  For example, see [this notebook about a new measure for OpenPrescribing](https://nbviewer.jupyter.org/github/ebmdatalab/jupyter-notebooks/blob/master/new_measures/New%20Measure%20-%20Gabapentin%20and%20Pregabalin%20DDD.ipynb).\n",
    "\n",
    "In the `examples` directory, you'll find a file called `nhs-news-analysis.ipynb`.  We'll look at this together in the class."
   ]
  }
 ],
 "metadata": {
  "kernelspec": {
   "display_name": "Python 3",
   "language": "python",
   "name": "python3"
  },
  "language_info": {
   "codemirror_mode": {
    "name": "ipython",
    "version": 3
   },
   "file_extension": ".py",
   "mimetype": "text/x-python",
   "name": "python",
   "nbconvert_exporter": "python",
   "pygments_lexer": "ipython3",
   "version": "3.7.3"
  }
 },
 "nbformat": 4,
 "nbformat_minor": 2
}
