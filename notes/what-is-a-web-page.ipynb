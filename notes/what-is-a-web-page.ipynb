{
 "cells": [
  {
   "cell_type": "markdown",
   "metadata": {},
   "source": [
    "##### [A very crash course in Python](contents.ipynb)\n",
    "\n",
    "# Interlude: What actually is a web page?"
   ]
  },
  {
   "cell_type": "markdown",
   "metadata": {},
   "source": [
    "There are two answers to this question, depending on your perspective!\n",
    "\n",
    "* To a human user, a web page is a collection of text and images and links and forms and so on, arranged in two dimensions, viewed through a web browser.\n",
    "* To a web browser, a web page is a document in a language called HTML, which it knows how to render into the format that you, the human, sees.\n",
    "\n",
    "(Today we're only interested in static web pages.  A web page may be dynamic, which means it can change in response to a user's actions or other events.  Dynamic pages use a language called JavaScript to manipulate the HTML on a page.)\n",
    "\n",
    "A web page is sent to the browser by a server in response to a request by the browser.  A request is triggered either by the user entering a URL into the URL bar, or by the user clicking on a link on another page."
   ]
  },
  {
   "cell_type": "markdown",
   "metadata": {},
   "source": [
    "Since this is a very crash course, we'll just look at some HTML and try to spot some patterns.\n",
    "\n",
    "Here's an example of some simple HTML:\n",
    "\n",
    "```\n",
    "<!DOCTYPE html>\n",
    "<html>\n",
    "  <head>\n",
    "    <meta charset=\"utf-8\">\n",
    "    <title>Weather forecast</title>\n",
    "  </head>\n",
    "\n",
    "  <body>\n",
    "    <header>\n",
    "      <h1>Weather forecast</h1>\n",
    "    </header>\n",
    "\n",
    "    <main>\n",
    "      <article>\n",
    "        <h2>3rd July 2019</h2>\n",
    "        <section>\n",
    "          <h3>London</h3>\n",
    "          <p>Cloudy</p>\n",
    "        </section>\n",
    "        <section>\n",
    "          <h3>Oxford</h3>\n",
    "          <p>Overcast</p>\n",
    "        </section>\n",
    "        <section>\n",
    "          <h3>Stroud</h3>\n",
    "          <p>Nimbo cumulus</p>\n",
    "        </section>\n",
    "      </article>\n",
    "\n",
    "      <article>\n",
    "        <h2>4th July 2019</h2>\n",
    "        <section>\n",
    "          <h3>London</h3>\n",
    "          <p>Hot</p>\n",
    "        </section>\n",
    "        <section>\n",
    "          <h3>Oxford</h3>\n",
    "          <p>Sunny</p>\n",
    "        </section>\n",
    "        <section>\n",
    "          <h3>Stroud</h3>\n",
    "          <p>Scorchio</p>\n",
    "        </section>\n",
    "      </article>\n",
    "    </main>\n",
    "  </body>\n",
    "</html>\n",
    "```"
   ]
  },
  {
   "cell_type": "markdown",
   "metadata": {},
   "source": [
    "You can view the (not very impressive) web page at http://inglesp.pythonanywhere.com/datalab/2019-07/forecast.html.\n",
    "\n",
    "> Tasks:\n",
    "> * Match up what you can see on the page with what's in the HTML.\n",
    "> * Copy the HTML above to a file on your computer called `forecast.html` and open it in a web browser.\n",
    "> * Make changes to the file and see what effect they have.\n",
    ">\n",
    "> Questions:\n",
    "> * What do you think `h1`, `h2`, `h3` indicate?\n",
    "> * `<tag>` is called an \"opening tag\" and `</tag>` is called a closing tag.  What happens if you remove an opening tag, eg `<h1>`?  What about if you remove a closing tag?"
   ]
  },
  {
   "cell_type": "markdown",
   "metadata": {},
   "source": [
    "You can see the original source HTML of a web page in your browser.  If you right click somewhere on the web page, you should see something (depending on your browser) like \"View Page Source\".\n",
    "\n",
    "You can also right click on a part of the page and choose something like \"Inspect Element\" to interact with the HTML on the page.\n",
    "\n",
    "Whereas the page source will show you the HTML that was originally sent to the browser by the server, \"Inspect Element\" will show you the state of the HTML as it is currently rendered, taking into account any changes that have been caused by JavaScript running on the page.\n",
    "\n",
    "> Task:\n",
    "> * Try both of these now."
   ]
  },
  {
   "cell_type": "markdown",
   "metadata": {},
   "source": [
    "An HTML document is structured as a \"tree\" of elements.\n",
    "\n",
    "```\n",
    "html\n",
    "├─head\n",
    "│ └─title\n",
    "│   └─text: Weather forecast\n",
    "└─body\n",
    "  ├─header\n",
    "  │ └─h1\n",
    "  │   └─text: Weather forecast\n",
    "  └─main\n",
    "    ├─article\n",
    "    │ ├─h2\n",
    "    │ │ └─text: 3rd July 2019\n",
    "    │ ├─section\n",
    "    │ │ ├─h3\n",
    "    │ │ │ └─text: London\n",
    "    │ │ └─p\n",
    "    │ │   └─text: Cloudy\n",
    "    │ ├─section\n",
    "    │ │ ├─h3\n",
    "    │ │ │ └─text: Oxford\n",
    "    │ │ └─p\n",
    "    │ │   └─text: Overcast\n",
    "    │ └─section\n",
    "    │   ├─h3\n",
    "    │   │ └─text: Stroud\n",
    "    │   └─p\n",
    "    │     └─text: Nimbo cumulus\n",
    "    └─article\n",
    "      ├─h2\n",
    "      │ └─text: 4th July 2019\n",
    "      ├─section\n",
    "      │ ├─h3\n",
    "      │ │ └─text: London\n",
    "      │ └─p\n",
    "      │   └─text: Hot\n",
    "      ├─section\n",
    "      │ ├─h3\n",
    "      │ │ └─text: Oxford\n",
    "      │ └─p\n",
    "      │   └─text: Sunny\n",
    "      └─section\n",
    "        ├─h3\n",
    "        │ └─text: Stroud\n",
    "        └─p\n",
    "          └─text: Scorchio\n",
    "```"
   ]
  },
  {
   "cell_type": "markdown",
   "metadata": {},
   "source": [
    "We can find elements by \"walking\" along the branches of the tree.\n",
    "\n",
    "For instance, the location of the text \"Overcast\" can be described as follows:\n",
    "\n",
    "* Start at the `html` root element\n",
    "* Find the `body` element within this element\n",
    "* Find the `main` element within this element\n",
    "* Find the first `article` element within this element\n",
    "* Find the second `section` element within this element\n",
    "* Find the `p` element within this element\n",
    "\n",
    "> Task:\n",
    "> * Follow these directions and check that you arrive at the the text \"Overcast\".\n",
    "\n",
    "To find an element, you don't have to start at the root element.  Instead, you can start at any other element and walk in either direction.  So to find the forecast for Stroud on 4th July, you could:\n",
    "\n",
    "* Find the element with text \"4th July 2019\" (an `h2`)\n",
    "* Find this element's parent (an `article`)\n",
    "* Find the element within this element with text \"Stroud\" (an `h3`)\n",
    "* Find this element's parent (a `section`)\n",
    "* Find the `p` element within this element\n",
    "\n",
    "> Task:\n",
    "> * Follow these directions and check that you arrive at the the expected text."
   ]
  },
  {
   "cell_type": "markdown",
   "metadata": {},
   "source": [
    "You don't need a browser to request a web page -- we can do it with Python.\n",
    "\n",
    "We need to use a couple of third-party libraries: [`requests`](https://2.python-requests.org/en/master/) (for making web requests) and [`BeautifulSoup4`](https://www.crummy.com/software/BeautifulSoup/bs4/doc/) for parsing HTML."
   ]
  },
  {
   "cell_type": "code",
   "execution_count": 1,
   "metadata": {},
   "outputs": [],
   "source": [
    "import requests\n",
    "from bs4 import BeautifulSoup"
   ]
  },
  {
   "cell_type": "markdown",
   "metadata": {},
   "source": [
    "We use `requests` to request the web page from the server."
   ]
  },
  {
   "cell_type": "code",
   "execution_count": 2,
   "metadata": {},
   "outputs": [],
   "source": [
    "rsp = requests.get('http://inglesp.pythonanywhere.com/datalab/2019-07/forecast.html')"
   ]
  },
  {
   "cell_type": "markdown",
   "metadata": {},
   "source": [
    "`requests.get` returns a `Response` object.  200 is a status code that means that the request succeeded.  See [this excellent website](https://http.cat/) for details of other status codes."
   ]
  },
  {
   "cell_type": "code",
   "execution_count": 3,
   "metadata": {},
   "outputs": [
    {
     "data": {
      "text/plain": [
       "<Response [200]>"
      ]
     },
     "execution_count": 3,
     "metadata": {},
     "output_type": "execute_result"
    }
   ],
   "source": [
    "rsp"
   ]
  },
  {
   "cell_type": "markdown",
   "metadata": {},
   "source": [
    "A `Response` object has the content of a response available as an attribute, and in this case it is the HTML of the web page."
   ]
  },
  {
   "cell_type": "code",
   "execution_count": 4,
   "metadata": {},
   "outputs": [
    {
     "data": {
      "text/plain": [
       "'<!DOCTYPE html>\\n<html>\\n  <head>\\n    <title>Weather forecast</title>\\n  </head>\\n\\n  <body>\\n    <header>\\n      <h1>Weather forecast</h1>\\n    </header>\\n\\n    <main>\\n      <article>\\n        <h2>3rd July 2019</h2>\\n        <section>\\n          <h3>London</h3>\\n          <p>Cloudy</p>\\n        </section>\\n        <section>\\n          <h3>Oxford</h3>\\n          <p>Overcast</p>\\n        </section>\\n        <section>\\n          <h3>Stroud</h3>\\n          <p>Nimbo cumulus</p>\\n        </section>\\n      </article>\\n\\n      <article>\\n        <h2>4th July 2019</h2>\\n        <section>\\n          <h3>London</h3>\\n          <p>Hot</p>\\n        </section>\\n        <section>\\n          <h3>Oxford</h3>\\n          <p>Sunny</p>\\n        </section>\\n        <section>\\n          <h3>Stroud</h3>\\n          <p>Scorchio</p>\\n        </section>\\n      </article>\\n    </main>\\n  </body>\\n</html>'"
      ]
     },
     "execution_count": 4,
     "metadata": {},
     "output_type": "execute_result"
    }
   ],
   "source": [
    "rsp.text"
   ]
  },
  {
   "cell_type": "markdown",
   "metadata": {},
   "source": [
    "We can use `BeautifulSoup` to create an object that makes it easy for us to navigate this HTML."
   ]
  },
  {
   "cell_type": "code",
   "execution_count": 5,
   "metadata": {},
   "outputs": [],
   "source": [
    "doc = BeautifulSoup(rsp.text, 'html.parser')"
   ]
  },
  {
   "cell_type": "markdown",
   "metadata": {},
   "source": [
    "Here, we're finding the text of the `p` element within the second `section` element within the first `article` element."
   ]
  },
  {
   "cell_type": "code",
   "execution_count": 6,
   "metadata": {},
   "outputs": [
    {
     "data": {
      "text/plain": [
       "'Overcast'"
      ]
     },
     "execution_count": 6,
     "metadata": {},
     "output_type": "execute_result"
    }
   ],
   "source": [
    "doc.find_all('article')[0].find_all('section')[1].find('p').text"
   ]
  },
  {
   "cell_type": "markdown",
   "metadata": {},
   "source": [
    "And here, we're finding the weather in Stroud in 4th July."
   ]
  },
  {
   "cell_type": "code",
   "execution_count": 7,
   "metadata": {},
   "outputs": [
    {
     "data": {
      "text/plain": [
       "'Scorchio'"
      ]
     },
     "execution_count": 7,
     "metadata": {},
     "output_type": "execute_result"
    }
   ],
   "source": [
    "doc.find(text='4th July 2019').parent.parent.find(text='Stroud').parent.parent.find('p').text"
   ]
  }
 ],
 "metadata": {
  "kernelspec": {
   "display_name": "Python 3",
   "language": "python",
   "name": "python3"
  },
  "language_info": {
   "codemirror_mode": {
    "name": "ipython",
    "version": 3
   },
   "file_extension": ".py",
   "mimetype": "text/x-python",
   "name": "python",
   "nbconvert_exporter": "python",
   "pygments_lexer": "ipython3",
   "version": "3.7.3"
  }
 },
 "nbformat": 4,
 "nbformat_minor": 2
}
