{
 "cells": [
  {
   "cell_type": "markdown",
   "metadata": {},
   "source": [
    "##### [A very crash course in Python](contents.ipynb)\n",
    "\n",
    "# Example program 3: scraping data"
   ]
  },
  {
   "cell_type": "markdown",
   "metadata": {},
   "source": [
    "## Tasks\n",
    "\n",
    "* Run `python3 scrape.py nhs-news-2019.csv --start-date 2019-01-01`, and check that `nhs-news-2019.csv` contains what you expect.\n",
    "* In a session with the interactive interpreter, run the code below, and by looking at the code of `scrape.py`, work out how to extract the headline, publication date, URL, tags, and opening paragraph of the first article at https://www.england.nhs.uk/news/.\n",
    "\n",
    "```\n",
    ">>> import requests\n",
    ">>> from bs4 import BeautifulSoup\n",
    ">>> url = 'https://www.england.nhs.uk/news/'\n",
    ">>> rsp = requests.get(url)\n",
    ">>> doc = BeautifulSoup(rsp.text, 'html.parser')\n",
    ">>> article = doc.find_all('article', class_='post group')[0]\n",
    "```"
   ]
  },
  {
   "cell_type": "markdown",
   "metadata": {},
   "source": [
    "## Extension tasks\n",
    "\n",
    "* Update the code to add a `--keyword` argument, so that it only searches for articles matching the keyword.  (Hint: try a keyword search on the website, and observe the URL of the search results.)\n",
    "* When we want to scrape a whole dataset, we want to avoid repeatedly requesting data that we already have.  What changes are necessary to ensure that we make the minimal number of requests to request new data?  What assumptions do we have to make about the source data?"
   ]
  }
 ],
 "metadata": {
  "kernelspec": {
   "display_name": "Python 3",
   "language": "python",
   "name": "python3"
  },
  "language_info": {
   "codemirror_mode": {
    "name": "ipython",
    "version": 3
   },
   "file_extension": ".py",
   "mimetype": "text/x-python",
   "name": "python",
   "nbconvert_exporter": "python",
   "pygments_lexer": "ipython3",
   "version": "3.7.3"
  }
 },
 "nbformat": 4,
 "nbformat_minor": 2
}
