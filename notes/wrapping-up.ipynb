{
 "cells": [
  {
   "cell_type": "markdown",
   "metadata": {},
   "source": [
    "##### [A very crash course in Python](contents.ipynb)\n",
    "\n",
    "# Wrapping up"
   ]
  },
  {
   "cell_type": "markdown",
   "metadata": {},
   "source": [
    "## Learning more\n",
    "\n",
    "* [Automate the Boring Stuff with Python](https://automatetheboringstuff.com/).  \"Practical programming for total beginners\"\n",
    "* [Learn Python the Hard Way](https://www.oreilly.com/library/view/learn-python-the/9780133124316/).  \"You bring the discipline, commitment, and persistence; the author supplies everything else.\"\n",
    "* [The Quick Python Book](https://www.manning.com/books/the-quick-python-book-third-edition).  \"A comprehensive guide to the Python language by a Python authority\"\n",
    "* [Data Wrangling with Python](https://www.oreilly.com/library/view/data-wrangling-with/9781491948804/).  \"Take your data analysis skills beyond Excel to the next level\"\n",
    "* [Python Data Science Handbook](https://jakevdp.github.io/PythonDataScienceHandbook/).  \"Essential tools for working with data\"\n",
    "* [Programming with MicroPython](https://www.oreilly.com/library/view/programming-with-micropython/9781491972724/).  \"The knowledge you need to roll up your sleeves and create embedded projects\""
   ]
  },
  {
   "cell_type": "markdown",
   "metadata": {},
   "source": [
    "## Moving away from PythonAnywhere\n",
    "\n",
    "* [The Hitchhiker’s Guide to Python](https://docs.python-guide.org/)"
   ]
  },
  {
   "cell_type": "markdown",
   "metadata": {},
   "source": [
    "## Getting help\n",
    "\n",
    "* [StackOverflow](https://stackoverflow.com/)\n",
    "* [Oxford Python](https://stackoverflow.com/)\n",
    "* [PySlackers](https://pyslackers.com/)"
   ]
  },
  {
   "cell_type": "markdown",
   "metadata": {},
   "source": [
    "## Stay in touch!\n",
    "\n",
    "peter.inglesby@thedatalab.org | ebmdatalab@phc.ox.ac.uk"
   ]
  }
 ],
 "metadata": {
  "kernelspec": {
   "display_name": "Python 3",
   "language": "python",
   "name": "python3"
  },
  "language_info": {
   "codemirror_mode": {
    "name": "ipython",
    "version": 3
   },
   "file_extension": ".py",
   "mimetype": "text/x-python",
   "name": "python",
   "nbconvert_exporter": "python",
   "pygments_lexer": "ipython3",
   "version": "3.7.3"
  }
 },
 "nbformat": 4,
 "nbformat_minor": 2
}
