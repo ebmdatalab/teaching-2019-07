{
 "cells": [
  {
   "cell_type": "markdown",
   "metadata": {},
   "source": [
    "##### [A very crash course in Python](contents.ipynb)\n",
    "\n",
    "# Example program 0: what happens when a Python program is run?"
   ]
  },
  {
   "attachments": {},
   "cell_type": "markdown",
   "metadata": {},
   "source": [
    "We typically only use the interactive interpreter for one-off tasks and trying ideas out.  In order to run code repeatedly, we need to save it in a file.\n",
    "\n",
    "In your PythonAnywhere account, you should have a directory called `examples`, which you can access via the Files tab.  This directory contains a handful of examples.  Click on `higher_or_lower.py` to view the file.  You should see something like this.\n",
    "\n",
    "![higher-or-lower-1.png](higher-or-lower-1.png)\n",
    "\n",
    "At the bottom of the screen, click \"Bash console here\".  This will launch a command line interpreter, and all we'll use this for today is running Python programs.\n",
    "\n",
    "When you have launched the command line interpreter, enter `python3 higher_or_lower.py`, and follow the instructions on the screen.\n",
    "\n",
    "![higher-or-lower-2.png](higher-or-lower-2.png)"
   ]
  },
  {
   "cell_type": "markdown",
   "metadata": {},
   "source": [
    "## Questions\n",
    "\n",
    "* What happens (and why) if you:\n",
    "    * change `guessed = False` to `guessed = True`?\n",
    "    * remove the line that includes `num_guesses = 0`?\n",
    "    * remove the line containing `continue`? \n",
    "    * change `elif` to `if`?\n",
    "* What does `randint(0, 100)` do?  How can you be sure?\n",
    "* What does the `input()` function do?\n",
    "* What does `print()` do?\n",
    "* What does the `while` keyword do?   "
   ]
  },
  {
   "cell_type": "markdown",
   "metadata": {},
   "source": [
    "## Extension tasks\n",
    "\n",
    "* Update the code so that the computer's prompts are more polite/in French/chosen from a list at random.\n",
    "* Currently, invalid guesses are not counted towards the number of guesses.  Update the code so that these guesses are included.\n",
    "* Update the code so that it congratulates the player if they make fewer than 5 incorrect guesses.\n",
    "* Update the code so that the player loses if they make more than 10 incorrect guesses.\n",
    "* Some guesses are definitely going to be wrong.  (For instance, if 30 is too low, then 20 will definitely be too low.  And the computer will never choose 110.)  Update the code so that it is able to tell the player if they make an impossible guess.\n"
   ]
  }
 ],
 "metadata": {
  "kernelspec": {
   "display_name": "Python 3",
   "language": "python",
   "name": "python3"
  },
  "language_info": {
   "codemirror_mode": {
    "name": "ipython",
    "version": 3
   },
   "file_extension": ".py",
   "mimetype": "text/x-python",
   "name": "python",
   "nbconvert_exporter": "python",
   "pygments_lexer": "ipython3",
   "version": "3.7.3"
  }
 },
 "nbformat": 4,
 "nbformat_minor": 2
}
