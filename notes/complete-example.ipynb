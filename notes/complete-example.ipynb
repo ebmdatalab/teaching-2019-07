{
 "cells": [
  {
   "cell_type": "markdown",
   "metadata": {},
   "source": [
    "##### [A very crash course in Python](contents.ipynb)\n",
    "\n",
    "# A complete example"
   ]
  },
  {
   "cell_type": "markdown",
   "metadata": {},
   "source": [
    "In the `full-example` directory, you'll find a script, `scraper.py`, that:\n",
    "\n",
    "* scrapes any new records from https://www.england.nhs.uk/news/\n",
    "* appends new records to a CSV file\n",
    "* updates a notebook with some analysis\n",
    "* if configured, sends an email notification about new articles\n",
    "\n",
    "In the `README` file, there are instructions for setting up email sending and for scheduling the scraper to run hourly."
   ]
  }
 ],
 "metadata": {
  "kernelspec": {
   "display_name": "Python 3",
   "language": "python",
   "name": "python3"
  },
  "language_info": {
   "codemirror_mode": {
    "name": "ipython",
    "version": 3
   },
   "file_extension": ".py",
   "mimetype": "text/x-python",
   "name": "python",
   "nbconvert_exporter": "python",
   "pygments_lexer": "ipython3",
   "version": "3.7.3"
  }
 },
 "nbformat": 4,
 "nbformat_minor": 2
}
