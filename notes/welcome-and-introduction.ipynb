{
 "cells": [
  {
   "cell_type": "markdown",
   "metadata": {},
   "source": [
    "##### [A very crash course in Python](contents.ipynb)\n",
    "\n",
    "# Welcome and introduction"
   ]
  },
  {
   "cell_type": "markdown",
   "metadata": {},
   "source": [
    "\"Give someone a program, frustrate them for a day.  Teach someone to program, frustrate them for a lifetime.\" ~ Ancient Proverb"
   ]
  },
  {
   "attachments": {},
   "cell_type": "markdown",
   "metadata": {},
   "source": [
    "## PythonAnywhere\n",
    "\n",
    "You should have created a \"hacker\" account at [PythonAnywhere](https://www.pythonanywhere.com/).  If not, please do so now!\n",
    "\n",
    "I had hoped to be able to copy the files you'll need to your PythonAnywhere workspaces, but because of a glitch in PythonAnywhere this isn't possible.\n",
    "\n",
    "Instead, please follow the following instructions!\n",
    "\n",
    "* Go to https://www.pythonanywhere.com\n",
    "* Click \"Consoles\"\n",
    "\n",
    "![setup-1.png](setup-1.png)\n",
    "\n",
    "* Click \"Bash\"\n",
    "\n",
    "![setup-2.png](setup-2.png)\n",
    "\n",
    "* Enter: \n",
    "\n",
    "```\n",
    "git clone https://github.com/ebmdatalab/teaching-2019-07.git\n",
    "cp -r teaching-2019-07/examples .\n",
    "cp -r teaching-2019-07/full-example .\n",
    "rm -rf teaching-2019-07\n",
    "exit\n",
    "```\n",
    "\n",
    "You should see something like:\n",
    "\n",
    "![setup-2.png](setup-3.png)\n",
    "\n",
    "If you don't, shout loudly now!"
   ]
  },
  {
   "cell_type": "markdown",
   "metadata": {},
   "source": [
    "## The code\n",
    "\n",
    "You can find all the code and notes for the course on GitHub at https://github.com/ebmdatalab/teaching-2019-07."
   ]
  }
 ],
 "metadata": {
  "kernelspec": {
   "display_name": "Python 3",
   "language": "python",
   "name": "python3"
  },
  "language_info": {
   "codemirror_mode": {
    "name": "ipython",
    "version": 3
   },
   "file_extension": ".py",
   "mimetype": "text/x-python",
   "name": "python",
   "nbconvert_exporter": "python",
   "pygments_lexer": "ipython3",
   "version": "3.7.3"
  }
 },
 "nbformat": 4,
 "nbformat_minor": 2
}
