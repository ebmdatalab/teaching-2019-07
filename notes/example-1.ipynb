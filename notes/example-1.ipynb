{
 "cells": [
  {
   "cell_type": "markdown",
   "metadata": {},
   "source": [
    "##### [A very crash course in Python](contents.ipynb)\n",
    "\n",
    "# Example program 1: very simple data analysis"
   ]
  },
  {
   "cell_type": "markdown",
   "metadata": {},
   "source": [
    "Our first useful program, `count_articles.py`, takes data from https://www.england.nhs.uk/news/, and counts the number of articles published each month.  The data is in a CSV file called `nhs-news.csv` -- we'll see how to scrape this data shortly."
   ]
  },
  {
   "cell_type": "markdown",
   "metadata": {},
   "source": [
    "## Tasks\n",
    "\n",
    "* Open `nhs-news.csv` in a spreadsheet program (eg Excel) and match up what you see against https://www.england.nhs.uk/news/.\n",
    "* Run `python3 count_articles.py nhs-news.csv --start-date 2019-01-01` and explain what you see.\n",
    "* Run `python3 count_articles.py --help` and explain what you see.\n",
    "* Work out how to get the program to write its results to a CSV file.\n",
    "* Work out how to get the program to count just the articles with the `heat-alert` tag."
   ]
  },
  {
   "cell_type": "markdown",
   "metadata": {},
   "source": [
    "## Questions\n",
    "\n",
    "* What do you see if you:\n",
    "    * uncomment `print(args)`?\n",
    "    * uncomment `print(row)`?\n",
    "    * uncomment `print(counts)`?\n",
    "    * run `python3 count_articles.py this-file-does-not-exist.csv`?\n",
    "* What happens (and why!) if you:\n",
    "    * change `args.start_date > row['pubdate']` to `args.start_date >= row['pubdate']`?\n",
    "    * change `for month in sorted(counts)` to `for month in counts`?\n",
    "    * remove `'w'` from `f = open(args.output_path, 'w')`?\n",
    "    * replace `if args.start_date and args.start_date > row[2]:` with `if args.start_date > row[2]:`?\n",
    "    * replace `if args.tag and args.tag not in row[3].split(','):` with `if args.tag not in row[3].split(','):`"
   ]
  },
  {
   "cell_type": "markdown",
   "metadata": {},
   "source": [
    "## Extension tasks\n",
    "\n",
    "* Update the code so that it refuses to run if the output file is the same as the input file.  (The `exit()` function might come in handy!)\n",
    "* Update the code so that the program also takes a `--end-date` argument.\n",
    "* Read about the `DictReader` class in the `csv` module (Google for \"python csv dictreader\") and change the code to make use of this.\n",
    "* Read about the `Counter` class in the `collections` module (Google for \"python counter\") and change the code to make use of this.\n",
    "* If you change `parser.add_argument('--tag')` to `parser.add_argument('--tag', nargs='+')`, the program will accept multiple tags.  Update the code accordingly.\n",
    "* Write another program that counts up how many articles there are with each tag, and prints out the most commmon tags."
   ]
  }
 ],
 "metadata": {
  "kernelspec": {
   "display_name": "Python 3",
   "language": "python",
   "name": "python3"
  },
  "language_info": {
   "codemirror_mode": {
    "name": "ipython",
    "version": 3
   },
   "file_extension": ".py",
   "mimetype": "text/x-python",
   "name": "python",
   "nbconvert_exporter": "python",
   "pygments_lexer": "ipython3",
   "version": "3.7.3"
  }
 },
 "nbformat": 4,
 "nbformat_minor": 2
}
