{
 "cells": [
  {
   "cell_type": "markdown",
   "metadata": {},
   "source": [
    "##### [A very crash course in Python](contents.ipynb)\n",
    "\n",
    "# Example program 2: producing charts"
   ]
  },
  {
   "cell_type": "markdown",
   "metadata": {},
   "source": [
    "It's useful to be able to visualise data.  Doing so is a bit fiddly, but Python gives you the tools for a lifetime of frustration.  Here we'll look at a simple example."
   ]
  },
  {
   "cell_type": "markdown",
   "metadata": {},
   "source": [
    "## Tasks\n",
    "\n",
    "* Run `python3 count_articles.py nhs-news.csv --output-path nhs-news-summary.csv` to generate a summary.\n",
    "* Run `python3 make_chart.py nhs-news-summary.csv nhs-news-summary.png` to generate a line graph of number of articles per month.\n",
    "* Download `nhs-news-summary.png`, open it on your laptop, and check that it looks sensible."
   ]
  },
  {
   "cell_type": "markdown",
   "metadata": {},
   "source": [
    "## Questions\n",
    "\n",
    "* What does each of the lines between `ax.plot(...)` and `fig.savefig(...)` do?  (Try commenting each out in turn, and obsever the effect.)\n",
    "* What happens if you change `values.append(int(row[1]))` to `values.append(row[1])`?\n",
    "* What's the effect of the difference between the calls to `parser.add_argument()` in `make_chart.py` and `count_articles.py`?"
   ]
  },
  {
   "cell_type": "markdown",
   "metadata": {},
   "source": [
    "## Extension tasks\n",
    "\n",
    "* Update the code to add an optional `--title` command line argument.\n",
    "* Read the section of the `matplotlib` docs about format strings (about halfway down [this page](https://matplotlib.org/3.1.0/api/_as_gen/matplotlib.pyplot.plot.html)) and experiment with different line styles.  For instance, what does `ax.plot(labels, values, '^k:')` display?\n",
    "* Change `ax.plot` to `ax.bar` to produce a bar chart.  Which do you think is clearer?\n",
    "* Change `ax.plot` to `ax.barh` to produce a horizontal bar chart.  What other changes are required to produce a readable chart?"
   ]
  }
 ],
 "metadata": {
  "kernelspec": {
   "display_name": "Python 3",
   "language": "python",
   "name": "python3"
  },
  "language_info": {
   "codemirror_mode": {
    "name": "ipython",
    "version": 3
   },
   "file_extension": ".py",
   "mimetype": "text/x-python",
   "name": "python",
   "nbconvert_exporter": "python",
   "pygments_lexer": "ipython3",
   "version": "3.7.3"
  }
 },
 "nbformat": 4,
 "nbformat_minor": 2
}
