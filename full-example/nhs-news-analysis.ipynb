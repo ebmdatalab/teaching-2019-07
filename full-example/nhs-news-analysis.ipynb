{
 "cells": [
  {
   "cell_type": "markdown",
   "metadata": {},
   "source": [
    "# Some \"analysis\" of articles published at https://www.england.nhs.uk/news/"
   ]
  },
  {
   "cell_type": "code",
   "execution_count": 1,
   "metadata": {},
   "outputs": [
    {
     "name": "stdout",
     "output_type": "stream",
     "text": [
      "Notebook was last run: 2019-07-02 09:39:58.860895\n"
     ]
    }
   ],
   "source": [
    "from datetime import datetime\n",
    "print('Notebook was last run:', datetime.now())"
   ]
  },
  {
   "cell_type": "markdown",
   "metadata": {},
   "source": [
    "## Setup"
   ]
  },
  {
   "cell_type": "code",
   "execution_count": 2,
   "metadata": {},
   "outputs": [],
   "source": [
    "# Set up matplotlib to plot figures in the notebook\n",
    "\n",
    "%matplotlib inline"
   ]
  },
  {
   "cell_type": "code",
   "execution_count": 3,
   "metadata": {},
   "outputs": [],
   "source": [
    "# Configure how figures are displayed\n",
    "\n",
    "import matplotlib.pyplot as plt\n",
    "plt.rcParams['figure.figsize'] = (12,6)"
   ]
  },
  {
   "cell_type": "code",
   "execution_count": 4,
   "metadata": {},
   "outputs": [],
   "source": [
    "# Import other useful modules\n",
    "\n",
    "from collections import Counter\n",
    "import csv"
   ]
  },
  {
   "cell_type": "code",
   "execution_count": 5,
   "metadata": {},
   "outputs": [],
   "source": [
    "# Load the data\n",
    "\n",
    "import config\n",
    "\n",
    "with open(config.CSV_PATH) as f:\n",
    "    records = list(csv.DictReader(f))"
   ]
  },
  {
   "cell_type": "markdown",
   "metadata": {},
   "source": [
    "## The five most recent articles"
   ]
  },
  {
   "cell_type": "code",
   "execution_count": 6,
   "metadata": {},
   "outputs": [
    {
     "name": "stdout",
     "output_type": "stream",
     "text": [
      "2019-07-01 New ways of working to free up doctors as part of the NHS Long Term Plan\n",
      "2019-07-01 Heat-health watch alert: level 1 – summer preparedness\n",
      "2019-06-29 Fake news putting 50,000 lesbian, gay and bisexual women at risk of cancer\n",
      "2019-06-28 NHS’ top nurse urges public to enjoy sun safely this weekend\n",
      "2019-06-26 Heat-health watch alert: level 2 – alert and readiness\n"
     ]
    }
   ],
   "source": [
    "for record in sorted(records, key=lambda record: record['pubdate'], reverse=True)[:5]:\n",
    "    print(record['pubdate'], record['title'])"
   ]
  },
  {
   "cell_type": "markdown",
   "metadata": {},
   "source": [
    "## The ten most common tags"
   ]
  },
  {
   "cell_type": "code",
   "execution_count": 7,
   "metadata": {},
   "outputs": [
    {
     "data": {
      "image/png": "[encoded data removed]",
      "text/plain": [
       "<Figure size 864x432 with 1 Axes>"
      ]
     },
     "metadata": {
      "needs_background": "light"
     },
     "output_type": "display_data"
    }
   ],
   "source": [
    "num_records_by_tag = Counter()\n",
    "\n",
    "for record in records:\n",
    "    for tag in record['tags'].split(','):\n",
    "        num_records_by_tag[tag] += 1\n",
    "\n",
    "labels = []\n",
    "values = []\n",
    "\n",
    "for tag, count in reversed(num_records_by_tag.most_common(10)):\n",
    "    labels.append(tag)\n",
    "    values.append(count)\n",
    "\n",
    "plt.barh(labels, values);"
   ]
  },
  {
   "cell_type": "markdown",
   "metadata": {},
   "source": [
    "## Number of articles about summer and winter, over time"
   ]
  },
  {
   "cell_type": "code",
   "execution_count": 8,
   "metadata": {},
   "outputs": [
    {
     "data": {
      "image/png": "[encoded data removed]",
      "text/plain": [
       "<Figure size 864x432 with 1 Axes>"
      ]
     },
     "metadata": {
      "needs_background": "light"
     },
     "output_type": "display_data"
    }
   ],
   "source": [
    "months = sorted(set(record['pubdate'][:7] for record in records))\n",
    "num_winter_records_by_month = Counter()\n",
    "num_summer_records_by_month = Counter()\n",
    "\n",
    "for record in records:\n",
    "    month = record['pubdate'][:7]\n",
    "    tags = record['tags'].split(',')\n",
    "    if 'winter-news' in tags:\n",
    "        num_winter_records_by_month[month] += 1\n",
    "    if 'heat-alert' in tags:\n",
    "        num_summer_records_by_month[month] += 1\n",
    "\n",
    "winter_values = []\n",
    "summer_values = []\n",
    "\n",
    "for month in months:\n",
    "    winter_values.append(num_winter_records_by_month[month])\n",
    "    summer_values.append(num_summer_records_by_month[month])\n",
    "    \n",
    "fig, ax = plt.subplots()\n",
    "ax.bar(months, winter_values, label='winter')\n",
    "ax.bar(months, summer_values, label='summer')\n",
    "ax.xaxis.set_major_locator(plt.MultipleLocator(6))\n",
    "ax.tick_params(axis='x', labelrotation=90)\n",
    "ax.set_xlabel('Month')\n",
    "ax.set_ylabel('Number of articles')\n",
    "ax.legend();"
   ]
  }
 ],
 "metadata": {
  "kernelspec": {
   "display_name": "Python 3",
   "language": "python",
   "name": "python3"
  },
  "language_info": {
   "codemirror_mode": {
    "name": "ipython",
    "version": 3
   },
   "file_extension": ".py",
   "mimetype": "text/x-python",
   "name": "python",
   "nbconvert_exporter": "python",
   "pygments_lexer": "ipython3",
   "version": "3.7.3"
  }
 },
 "nbformat": 4,
 "nbformat_minor": 2
}
